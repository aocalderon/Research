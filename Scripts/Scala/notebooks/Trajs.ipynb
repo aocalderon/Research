{
 "cells": [
  {
   "cell_type": "code",
   "execution_count": 1,
   "id": "bbff3b9f-dfeb-4520-ba1b-3f2a3c326f23",
   "metadata": {},
   "outputs": [
    {
     "data": {
      "text/plain": [
       "org.apache.spark.sql.SparkSession@35253ecc"
      ]
     },
     "execution_count": 1,
     "metadata": {},
     "output_type": "execute_result"
    }
   ],
   "source": [
    "spark"
   ]
  },
  {
   "cell_type": "code",
   "execution_count": 2,
   "id": "bd71766c-6e8f-496a-ad35-243e4ce76115",
   "metadata": {},
   "outputs": [
    {
     "data": {
      "text/plain": [
       "data = [_c0: string, _c1: string ... 3 more fields]\n"
      ]
     },
     "metadata": {},
     "output_type": "display_data",
     "source": "user"
    },
    {
     "data": {
      "text/plain": [
       "[_c0: string, _c1: string ... 3 more fields]"
      ]
     },
     "execution_count": 2,
     "metadata": {},
     "output_type": "execute_result"
    }
   ],
   "source": [
    "val data = spark.read.option(\"header\", \"false\").option(\"delimiter\", \"\\t\").csv(\"hdfs://mr-hn:8020/user/acald013/Datasets/ny_bikes.wkt\").cache"
   ]
  },
  {
   "cell_type": "code",
   "execution_count": 3,
   "id": "ad53c9a1-6e15-4dd4-8299-edd2f245c9c0",
   "metadata": {},
   "outputs": [
    {
     "data": {
      "text/plain": [
       "defined class Route\n",
       "trajs = [wkt: string, id: string ... 3 more fields]\n"
      ]
     },
     "metadata": {},
     "output_type": "display_data",
     "source": "user"
    },
    {
     "data": {
      "text/plain": [
       "[wkt: string, id: string ... 3 more fields]"
      ]
     },
     "execution_count": 3,
     "metadata": {},
     "output_type": "execute_result"
    }
   ],
   "source": [
    "case class Route(wkt: String, id: String, t1: Long, t2: Long, duration: Long)\n",
    "//**\n",
    "\n",
    "val trajs = data.map{ row =>\n",
    "  Route(\n",
    "    row.getString(0),\n",
    "    row.getString(1),\n",
    "    row.getString(2).toLong,\n",
    "    row.getString(3).toLong,\n",
    "    row.getString(4).toLong\n",
    "  )\n",
    "}.cache"
   ]
  },
  {
   "cell_type": "code",
   "execution_count": 4,
   "id": "d3b557ef-d7f1-49f8-9e59-288719914e40",
   "metadata": {},
   "outputs": [
    {
     "name": "stdout",
     "output_type": "stream",
     "text": [
      "+--------------------+----------------+-------------+-------------+--------+\n",
      "|                 wkt|              id|           t1|           t2|duration|\n",
      "+--------------------+----------------+-------------+-------------+--------+\n",
      "|LINESTRING (-73.9...|703143368D531D3B|1682105347000|1682106295000| 1082305|\n",
      "|LINESTRING (-73.9...|293D3CD88AB1ED0F|1682540848000|1682541439000|  509974|\n",
      "|LINESTRING (-73.9...|6B6C3AD3E9F5EE64|1680598050000|1680598237000|  146011|\n",
      "|LINESTRING (-73.9...|159C90AB46D5631B|1680369846000|1680371170000| 1167262|\n",
      "|LINESTRING (-73.9...|F96671AD26CF236F|1680895251000|1680896105000|  875629|\n",
      "|LINESTRING (-73.9...|36D52B2C5233BD68|1681373408000|1681374727000| 1320907|\n",
      "|LINESTRING (-73.9...|3ED7720B9AFFDF9B|1682180019000|1682181757000|  501345|\n",
      "|LINESTRING (-73.9...|BA691255AB5D2F9F|1680540874000|1680541841000|  200031|\n",
      "|LINESTRING (-73.9...|D6AF8DD6D8C7260B|1681934281000|1681934453000|  196043|\n",
      "|LINESTRING (-73.9...|A04ED390091E5EEB|1680966144000|1680966440000|  199948|\n",
      "|LINESTRING (-73.9...|4398C167A917CFE7|1681633570000|1681633888000|  301128|\n",
      "|LINESTRING (-73.9...|4553B60581019010|1681241919000|1681242130000|  293779|\n",
      "|LINESTRING (-73.9...|9D9306B6712204F4|1682626080000|1682626287000|  179602|\n",
      "|LINESTRING (-73.9...|17256A8A292E2EE5|1682014436000|1682015889000| 1549393|\n",
      "|LINESTRING (-73.9...|9D4BC119D6585688|1681133316000|1681133359000|   26698|\n",
      "|LINESTRING (-73.9...|7928807A1A7AFA44|1681859890000|1681860270000|  469213|\n",
      "|LINESTRING (-73.9...|49C8F0B922051D29|1680528528000|1680529465000|  475420|\n",
      "|LINESTRING (-73.9...|1307C5B97587BA6A|1681145456000|1681145594000|   14560|\n",
      "|LINESTRING (-74.0...|5436951F73A38E0A|1681395392000|1681395581000|  226257|\n",
      "|LINESTRING (-73.9...|F7170E28DEDCEF22|1681408970000|1681409323000|  416091|\n",
      "+--------------------+----------------+-------------+-------------+--------+\n",
      "only showing top 20 rows\n",
      "\n"
     ]
    }
   ],
   "source": [
    "trajs.show"
   ]
  },
  {
   "cell_type": "code",
   "execution_count": 5,
   "id": "1e0c7564-0c6e-4e8c-a5db-157164413563",
   "metadata": {},
   "outputs": [
    {
     "name": "stdout",
     "output_type": "stream",
     "text": [
      "Starting download from file:///home/acald013/Spark/2.4/jars/jts-core-1.19.0.jar\n",
      "Finished download of jts-core-1.19.0.jar\n",
      "Using cached version of jts-core-1.19.0.jar\n"
     ]
    }
   ],
   "source": [
    "%AddJar file:///home/acald013/Spark/2.4/jars/jts-core-1.19.0.jar"
   ]
  },
  {
   "cell_type": "code",
   "execution_count": 6,
   "id": "42479092-cb1a-4d48-8601-912aa7ae1107",
   "metadata": {},
   "outputs": [
    {
     "data": {
      "text/plain": [
       "geofactory = org.locationtech.jts.geom.GeometryFactory@45e12eb1\n"
      ]
     },
     "metadata": {},
     "output_type": "display_data",
     "source": "user"
    },
    {
     "data": {
      "text/plain": [
       "org.locationtech.jts.geom.GeometryFactory@45e12eb1"
      ]
     },
     "execution_count": 6,
     "metadata": {},
     "output_type": "execute_result"
    }
   ],
   "source": [
    "import org.locationtech.jts.geom._\n",
    "\n",
    "val geofactory = new GeometryFactory(new PrecisionModel(1e-10))"
   ]
  },
  {
   "cell_type": "code",
   "execution_count": 7,
   "id": "2be9a521-7b48-470a-b7af-48a2ff2d8a9a",
   "metadata": {},
   "outputs": [
    {
     "name": "stdout",
     "output_type": "stream",
     "text": [
      "Starting download from file:///home/acald013/.cache/coursier/v1/https/repo1.maven.org/maven2/com/github/nscala-time/nscala-time_2.11/2.32.0/nscala-time_2.11-2.32.0.jar\n",
      "Finished download of nscala-time_2.11-2.32.0.jar\n",
      "Using cached version of nscala-time_2.11-2.32.0.jar\n"
     ]
    }
   ],
   "source": [
    "%AddJar file:///home/acald013/.cache/coursier/v1/https/repo1.maven.org/maven2/com/github/nscala-time/nscala-time_2.11/2.32.0/nscala-time_2.11-2.32.0.jar"
   ]
  },
  {
   "cell_type": "code",
   "execution_count": 8,
   "id": "fc216908-50e5-4a2a-917f-4fc0159c1da7",
   "metadata": {},
   "outputs": [
    {
     "name": "stdout",
     "output_type": "stream",
     "text": [
      "(2023-04-21T19:29:07.000Z,2023-04-21T19:44:55.000Z,948000,1082305)\n",
      "(2023-04-26T20:27:28.000Z,2023-04-26T20:37:19.000Z,591000,509974)\n",
      "(2023-04-04T08:47:30.000Z,2023-04-04T08:50:37.000Z,187000,146011)\n",
      "(2023-04-01T17:24:06.000Z,2023-04-01T17:46:10.000Z,1324000,1167262)\n",
      "(2023-04-07T19:20:51.000Z,2023-04-07T19:35:05.000Z,854000,875629)\n",
      "(2023-04-13T08:10:08.000Z,2023-04-13T08:32:07.000Z,1319000,1320907)\n",
      "(2023-04-22T16:13:39.000Z,2023-04-22T16:42:37.000Z,1738000,501345)\n",
      "(2023-04-03T16:54:34.000Z,2023-04-03T17:10:41.000Z,967000,200031)\n",
      "(2023-04-19T19:58:01.000Z,2023-04-19T20:00:53.000Z,172000,196043)\n",
      "(2023-04-08T15:02:24.000Z,2023-04-08T15:07:20.000Z,296000,199948)\n"
     ]
    }
   ],
   "source": [
    "import com.github.nscala_time.time.Imports._\n",
    "\n",
    "trajs.rdd.map{ route =>\n",
    "    val start = new DateTime(route.t1, DateTimeZone.UTC)\n",
    "    val end = new DateTime(route.t2, DateTimeZone.UTC)\n",
    "    \n",
    "    (start, end, route.t2 - route.t1, route.duration)\n",
    "}.take(10).foreach(println)"
   ]
  },
  {
   "cell_type": "code",
   "execution_count": 9,
   "id": "2e2741fe-22aa-4d7f-a259-f6da1275e6f9",
   "metadata": {},
   "outputs": [
    {
     "data": {
      "text/plain": [
       "router1 = POINT (10 7)\n",
       "router2 = POINT (10 7)\n",
       "router3 = POINT (10 7)\n",
       "router4 = POINT (10 7)\n"
      ]
     },
     "metadata": {},
     "output_type": "display_data",
     "source": "user"
    },
    {
     "data": {
      "text/plain": [
       "POINT (10 7)"
      ]
     },
     "execution_count": 9,
     "metadata": {},
     "output_type": "execute_result"
    }
   ],
   "source": [
    "val router1 = geofactory.createPoint(new Coordinate(10.0, 7.0))\n",
    "val router2 = geofactory.createPoint(new Coordinate(10.0, 7.0))\n",
    "val router3 = geofactory.createPoint(new Coordinate(10.0, 7.0))\n",
    "val router4 = geofactory.createPoint(new Coordinate(10.0, 7.0))\n",
    "\n"
   ]
  },
  {
   "cell_type": "code",
   "execution_count": 10,
   "id": "50ad0305-7611-4269-9c7f-9d76bddd610e",
   "metadata": {},
   "outputs": [],
   "source": [
    "val filename = \"https://d37ci6vzurychx.cloudfront.net/trip-data/fhvhv_tripdata_2023-04.parquet\"\n",
    "val data = spark.read.parquet(filename).cache"
   ]
  },
  {
   "cell_type": "code",
   "execution_count": 11,
   "id": "dc08eefc-f4c7-46e7-9c2b-e94c6b9e13a6",
   "metadata": {},
   "outputs": [
    {
     "name": "stdout",
     "output_type": "stream",
     "text": [
      "+--------------------+----------------+-------------+-------------+-------+\n",
      "|                 _c0|             _c1|          _c2|          _c3|    _c4|\n",
      "+--------------------+----------------+-------------+-------------+-------+\n",
      "|LINESTRING (-73.9...|703143368D531D3B|1682105347000|1682106295000|1082305|\n",
      "|LINESTRING (-73.9...|293D3CD88AB1ED0F|1682540848000|1682541439000| 509974|\n",
      "|LINESTRING (-73.9...|6B6C3AD3E9F5EE64|1680598050000|1680598237000| 146011|\n",
      "|LINESTRING (-73.9...|159C90AB46D5631B|1680369846000|1680371170000|1167262|\n",
      "|LINESTRING (-73.9...|F96671AD26CF236F|1680895251000|1680896105000| 875629|\n",
      "|LINESTRING (-73.9...|36D52B2C5233BD68|1681373408000|1681374727000|1320907|\n",
      "|LINESTRING (-73.9...|3ED7720B9AFFDF9B|1682180019000|1682181757000| 501345|\n",
      "|LINESTRING (-73.9...|BA691255AB5D2F9F|1680540874000|1680541841000| 200031|\n",
      "|LINESTRING (-73.9...|D6AF8DD6D8C7260B|1681934281000|1681934453000| 196043|\n",
      "|LINESTRING (-73.9...|A04ED390091E5EEB|1680966144000|1680966440000| 199948|\n",
      "|LINESTRING (-73.9...|4398C167A917CFE7|1681633570000|1681633888000| 301128|\n",
      "|LINESTRING (-73.9...|4553B60581019010|1681241919000|1681242130000| 293779|\n",
      "|LINESTRING (-73.9...|9D9306B6712204F4|1682626080000|1682626287000| 179602|\n",
      "|LINESTRING (-73.9...|17256A8A292E2EE5|1682014436000|1682015889000|1549393|\n",
      "|LINESTRING (-73.9...|9D4BC119D6585688|1681133316000|1681133359000|  26698|\n",
      "|LINESTRING (-73.9...|7928807A1A7AFA44|1681859890000|1681860270000| 469213|\n",
      "|LINESTRING (-73.9...|49C8F0B922051D29|1680528528000|1680529465000| 475420|\n",
      "|LINESTRING (-73.9...|1307C5B97587BA6A|1681145456000|1681145594000|  14560|\n",
      "|LINESTRING (-74.0...|5436951F73A38E0A|1681395392000|1681395581000| 226257|\n",
      "|LINESTRING (-73.9...|F7170E28DEDCEF22|1681408970000|1681409323000| 416091|\n",
      "+--------------------+----------------+-------------+-------------+-------+\n",
      "only showing top 20 rows\n",
      "\n"
     ]
    },
    {
     "data": {
      "text/plain": [
       "lastException = null\n"
      ]
     },
     "metadata": {},
     "output_type": "display_data",
     "source": "user"
    },
    {
     "data": {
      "text/plain": [
       "null"
      ]
     },
     "execution_count": 11,
     "metadata": {},
     "output_type": "execute_result"
    }
   ],
   "source": [
    "data.show"
   ]
  },
  {
   "cell_type": "code",
   "execution_count": 15,
   "id": "65a2efc8-7a51-47a8-a8d1-c47df46ea473",
   "metadata": {},
   "outputs": [
    {
     "data": {
      "text/plain": [
       "geofactory = org.locationtech.jts.geom.GeometryFactory@7410e33b\n",
       "envelope = Env[-74.0217207046608 : -73.9851479264573, 40.69775127799 : 40.7196722289007]\n"
      ]
     },
     "metadata": {},
     "output_type": "display_data",
     "source": "user"
    },
    {
     "data": {
      "text/plain": [
       "POLYGON ((-74.02172070466 40.69775127799, -74.02172070466 40.7196722289, -73.98514792646 40.7196722289, -73.98514792646 40.69775127799, -74.02172070466 40.69775127799))"
      ]
     },
     "execution_count": 15,
     "metadata": {},
     "output_type": "execute_result"
    }
   ],
   "source": [
    "val geofactory = new GeometryFactory(new PrecisionModel(1e10))\n",
    "val envelope = new Envelope(-74.0217207046608, -73.9851479264573, 40.69775127799, 40.7196722289007)\n",
    "geofactory.toGeometry(envelope).toText"
   ]
  },
  {
   "cell_type": "code",
   "execution_count": null,
   "id": "94fa4063-395c-4825-a286-0a3c0718fa4a",
   "metadata": {},
   "outputs": [],
   "source": []
  }
 ],
 "metadata": {
  "kernelspec": {
   "display_name": "Apache Toree - Scala",
   "language": "scala",
   "name": "apache_toree_scala"
  },
  "language_info": {
   "codemirror_mode": "text/x-scala",
   "file_extension": ".scala",
   "mimetype": "text/x-scala",
   "name": "scala",
   "pygments_lexer": "scala",
   "version": "2.12.15"
  }
 },
 "nbformat": 4,
 "nbformat_minor": 5
}
