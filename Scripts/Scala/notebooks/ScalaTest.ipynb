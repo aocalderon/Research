{
 "cells": [
  {
   "cell_type": "code",
   "execution_count": 86,
   "id": "51947d14-c74f-49ee-8fe8-999ca5241f62",
   "metadata": {},
   "outputs": [
    {
     "data": {
      "text/plain": [
       "\u001b[36mboxes\u001b[39m: \u001b[32mList\u001b[39m[\u001b[32mString\u001b[39m] = \u001b[33mList\u001b[39m(\u001b[32m\"A\"\u001b[39m, \u001b[32m\"B\"\u001b[39m, \u001b[32m\"C\"\u001b[39m, \u001b[32m\"D\"\u001b[39m, \u001b[32m\"E\"\u001b[39m)\n",
       "\u001b[36mres85_1\u001b[39m: \u001b[32mList\u001b[39m[(\u001b[32mString\u001b[39m, \u001b[32mString\u001b[39m)] = \u001b[33mList\u001b[39m(\n",
       "  (\u001b[32m\"A\"\u001b[39m, \u001b[32m\"B\"\u001b[39m),\n",
       "  (\u001b[32m\"A\"\u001b[39m, \u001b[32m\"C\"\u001b[39m),\n",
       "  (\u001b[32m\"A\"\u001b[39m, \u001b[32m\"D\"\u001b[39m),\n",
       "  (\u001b[32m\"A\"\u001b[39m, \u001b[32m\"E\"\u001b[39m),\n",
       "  (\u001b[32m\"B\"\u001b[39m, \u001b[32m\"C\"\u001b[39m),\n",
       "  (\u001b[32m\"B\"\u001b[39m, \u001b[32m\"D\"\u001b[39m),\n",
       "  (\u001b[32m\"B\"\u001b[39m, \u001b[32m\"E\"\u001b[39m),\n",
       "  (\u001b[32m\"C\"\u001b[39m, \u001b[32m\"D\"\u001b[39m),\n",
       "  (\u001b[32m\"C\"\u001b[39m, \u001b[32m\"E\"\u001b[39m),\n",
       "  (\u001b[32m\"D\"\u001b[39m, \u001b[32m\"E\"\u001b[39m)\n",
       ")"
      ]
     },
     "execution_count": 86,
     "metadata": {},
     "output_type": "execute_result"
    }
   ],
   "source": [
    "val boxes = List(\"A\",\"B\",\"C\",\"D\",\"E\")\n",
    "for{\n",
    "    Bi <- boxes\n",
    "    Bj <- boxes if{ Bi < Bj }\n",
    "} yield {\n",
    "    (Bi, Bj)\n",
    "}"
   ]
  },
  {
   "cell_type": "code",
   "execution_count": 13,
   "id": "c766352d-f19b-4823-9c1c-a59b0f123500",
   "metadata": {},
   "outputs": [
    {
     "data": {
      "text/plain": [
       "\u001b[36mstreaminer\u001b[39m: \u001b[32mos\u001b[39m.\u001b[32mPath\u001b[39m = root/\u001b[32m'home\u001b[39m/\u001b[32m'acald013\u001b[39m/\u001b[32m'Spark\u001b[39m/\u001b[32m\"2.4\"\u001b[39m/\u001b[32m'jars\u001b[39m/\u001b[32m\"streaminer-1.1.2.jar\"\u001b[39m"
      ]
     },
     "execution_count": 13,
     "metadata": {},
     "output_type": "execute_result"
    }
   ],
   "source": [
    "val streaminer = os.home / \"Spark\" / \"2.4\" / \"jars\" / \"streaminer-1.1.2.jar\"\n",
    "interp.load.cp(streaminer)"
   ]
  },
  {
   "cell_type": "code",
   "execution_count": 70,
   "id": "73a11f85-8be0-4360-839d-f25727c789d5",
   "metadata": {},
   "outputs": [
    {
     "data": {
      "text/plain": [
       "\u001b[32mimport \u001b[39m\u001b[36morg.streaminer.util.hash.{MurmurHash3, SpookyHash64}\n",
       "\u001b[39m\n",
       "\u001b[32mimport \u001b[39m\u001b[36mscala.collection.mutable.BitSet\u001b[39m"
      ]
     },
     "execution_count": 70,
     "metadata": {},
     "output_type": "execute_result"
    }
   ],
   "source": [
    "import org.streaminer.util.hash.{MurmurHash3, SpookyHash64}\n",
    "import scala.collection.mutable.BitSet"
   ]
  },
  {
   "cell_type": "code",
   "execution_count": 55,
   "id": "fae9541a-9a26-44d7-957c-dd324a59d5b7",
   "metadata": {},
   "outputs": [
    {
     "data": {
      "text/html": [
       "<div class=\"jp-RenderedText\">\n",
       "<pre><code><span style=\"color: rgb(0, 187, 187)\"><span class=\"ansi-cyan-fg\">signature</span></span>: <span style=\"color: rgb(0, 187, 0)\"><span class=\"ansi-green-fg\">collection</span></span>.<span style=\"color: rgb(0, 187, 0)\"><span class=\"ansi-green-fg\">BitSet</span></span>.type = scala.collection.BitSet$@2eb638ea</code></pre>\n",
       "</div>"
      ],
      "text/plain": [
       "\u001b[36msignature\u001b[39m: \u001b[32mcollection\u001b[39m.\u001b[32mBitSet\u001b[39m.type = scala.collection.BitSet$@2eb638ea"
      ]
     },
     "metadata": {},
     "output_type": "display_data"
    }
   ],
   "source": []
  },
  {
   "cell_type": "code",
   "execution_count": 87,
   "id": "7d646090-cd65-4fb2-9c6d-92dce8abf4d8",
   "metadata": {},
   "outputs": [
    {
     "data": {
      "text/plain": [
       "defined \u001b[32mclass\u001b[39m \u001b[36mDisk\u001b[39m\n",
       "\u001b[36md1\u001b[39m: \u001b[32mDisk\u001b[39m = \u001b[33mDisk\u001b[39m((1.0, 1.0, NaN), \u001b[33mList\u001b[39m(\u001b[32m1\u001b[39m, \u001b[32m2\u001b[39m, \u001b[32m3\u001b[39m, \u001b[32m5\u001b[39m))\n",
       "\u001b[36md2\u001b[39m: \u001b[32mDisk\u001b[39m = \u001b[33mDisk\u001b[39m((2.0, 2.0, NaN), \u001b[33mList\u001b[39m(\u001b[32m1\u001b[39m, \u001b[32m2\u001b[39m, \u001b[32m3\u001b[39m, \u001b[32m7\u001b[39m))\n",
       "\u001b[36md3\u001b[39m: \u001b[32mDisk\u001b[39m = \u001b[33mDisk\u001b[39m((3.0, 3.0, NaN), \u001b[33mList\u001b[39m(\u001b[32m1\u001b[39m, \u001b[32m2\u001b[39m, \u001b[32m3\u001b[39m))\n",
       "\u001b[36mres86_4\u001b[39m: \u001b[32mBoolean\u001b[39m = false\n",
       "\u001b[36mres86_5\u001b[39m: \u001b[32mBoolean\u001b[39m = true\n",
       "\u001b[36mres86_6\u001b[39m: \u001b[32mBoolean\u001b[39m = true"
      ]
     },
     "execution_count": 87,
     "metadata": {},
     "output_type": "execute_result"
    }
   ],
   "source": [
    "\n",
    "case class Disk(center: Coordinate, pids: List[Int]){\n",
    "    val SIG_SIZE = 128\n",
    "    val signature: BitSet = {\n",
    "        val signature_prime: BitSet = new BitSet\n",
    "        pids.foreach{ oid =>\n",
    "            pureHash(signature_prime, oid)\n",
    "        }\n",
    "        signature_prime\n",
    "    }\n",
    "\n",
    "    def pureHash(signature: BitSet, oid: Int, size: Int = SIG_SIZE, seed: Int = 42): Unit = {\n",
    "        val murmur_pos = math.abs(MurmurHash3.MurmurHash3_x64_128(Array(oid.toByte), seed)(1) % size).toInt\n",
    "        val spooky_pos = math.abs(SpookyHash64.hash(Array(oid.toByte), seed) % size).toInt\n",
    "        signature(murmur_pos) = true\n",
    "        signature(spooky_pos) = true\n",
    "    }\n",
    "    \n",
    "    def &(other: Disk): Boolean = {\n",
    "        val r = this.signature & other.signature\n",
    "        r == other.signature\n",
    "    }\n",
    "}\n",
    "\n",
    "val d1 = Disk(new Coordinate(1,1), List(1,2,3,5))\n",
    "val d2 = Disk(new Coordinate(2,2), List(1,2,3,7))\n",
    "val d3 = Disk(new Coordinate(3,3), List(1,2,3))\n",
    "\n",
    "d1 & d2\n",
    "d1 & d3\n",
    "d2 & d3\n"
   ]
  },
  {
   "cell_type": "code",
   "execution_count": 47,
   "id": "ef4a9e25-f893-4594-8bb4-f2e86e04b509",
   "metadata": {},
   "outputs": [
    {
     "ename": "",
     "evalue": "",
     "output_type": "error",
     "traceback": [
      "\u001b[31mjava.lang.ArrayIndexOutOfBoundsException: 5\u001b[39m\n  ammonite.$sess.cmd46$Helper.<init>(\u001b[32mcmd46.sc\u001b[39m:\u001b[32m3\u001b[39m)\n  ammonite.$sess.cmd46$.<init>(\u001b[32mcmd46.sc\u001b[39m:\u001b[32m7\u001b[39m)\n  ammonite.$sess.cmd46$.<clinit>(\u001b[32mcmd46.sc\u001b[39m:\u001b[32m-1\u001b[39m)"
     ]
    }
   ],
   "source": [
    "val s = \"00001000000000000000000001000000000100000000000010000001000000000000000000000000000000000000100010000000000001000000000000000000\"\n",
    "val a = Array[Byte]()\n",
    "a.\n",
    "a(5) = 1"
   ]
  },
  {
   "cell_type": "code",
   "execution_count": 1,
   "id": "2c4b3673-4e7f-4ce5-8932-30f130669784",
   "metadata": {},
   "outputs": [
    {
     "data": {
      "text/plain": [
       "\u001b[36mjts\u001b[39m: \u001b[32mos\u001b[39m.\u001b[32mPath\u001b[39m = root/\u001b[32m'home\u001b[39m/\u001b[32m'acald013\u001b[39m/\u001b[32m'Spark\u001b[39m/\u001b[32m\"2.4\"\u001b[39m/\u001b[32m'jars\u001b[39m/\u001b[32m\"jts-core-1.19.0.jar\"\u001b[39m"
      ]
     },
     "execution_count": 1,
     "metadata": {},
     "output_type": "execute_result"
    }
   ],
   "source": [
    "val jts = os.home / \"Spark\" / \"2.4\" / \"jars\" / \"jts-core-1.19.0.jar\"\n",
    "interp.load.cp(jts)\n"
   ]
  },
  {
   "cell_type": "code",
   "execution_count": 81,
   "id": "a845cd2c-6999-48c2-bf97-d4265c22dcd9",
   "metadata": {},
   "outputs": [
    {
     "data": {
      "text/plain": [
       "\u001b[32mimport \u001b[39m\u001b[36morg.locationtech.jts.geom._\u001b[39m"
      ]
     },
     "execution_count": 81,
     "metadata": {},
     "output_type": "execute_result"
    }
   ],
   "source": [
    "import org.locationtech.jts.geom._"
   ]
  },
  {
   "cell_type": "code",
   "execution_count": 84,
   "id": "cfb770af-ff84-41a8-9666-02d3bd290581",
   "metadata": {},
   "outputs": [
    {
     "name": "stderr",
     "output_type": "stream",
     "text": [
      "cmd84.sc:4: object geotools is not a member of package org\n",
      "import org.geotools.referencing.CRS;\n",
      "           ^cmd84.sc:3: object geotools is not a member of package org\n",
      "import org.geotools.geometry.jts.JTS;\n",
      "           ^Compilation Failed"
     ]
    },
    {
     "ename": "",
     "evalue": "",
     "output_type": "error",
     "traceback": [
      "Compilation Failed"
     ]
    }
   ],
   "source": [
    "val geofactory = new GeometryFactory(new PrecisionModel(1e3))\n",
    "\n",
    "import org.geotools.geometry.jts.JTS;\n",
    "import org.geotools.referencing.CRS;"
   ]
  },
  {
   "cell_type": "code",
   "execution_count": null,
   "id": "aeadc0ad-6f21-4473-8594-705a482e69b5",
   "metadata": {},
   "outputs": [],
   "source": [
    "val L: List[Int] = List(1,2,5,7,9,0)\n",
    "L.reduce(_ + _)"
   ]
  },
  {
   "cell_type": "code",
   "execution_count": null,
   "id": "89087f12-b6d1-4649-a1e1-2dae0069f281",
   "metadata": {},
   "outputs": [],
   "source": [
    "import $ivy.`org.apache.spark::spark-sql:2.4.0` // Or use any other 2.x version here\n",
    "import $ivy.`sh.almond::almond-spark:0.9.0` // Not required since almond 0.7.0 (will be automatically added when importing spark)"
   ]
  },
  {
   "cell_type": "code",
   "execution_count": null,
   "id": "ab35db5e-accb-4895-8cc7-99c94c5648a6",
   "metadata": {},
   "outputs": [],
   "source": [
    "import org.apache.log4j.{Level, Logger}\n",
    "Logger.getLogger(\"org\").setLevel(Level.OFF)\n",
    "\n",
    "import org.apache.spark.sql._\n",
    "\n",
    "val spark = {\n",
    "  NotebookSparkSession.builder()\n",
    "    .master(\"local[*]\")\n",
    "    .getOrCreate()\n",
    "}"
   ]
  },
  {
   "cell_type": "code",
   "execution_count": null,
   "id": "62052ace-c754-410d-8e51-b2f96992d587",
   "metadata": {},
   "outputs": [],
   "source": [
    "val data = spark.read\n",
    ".format(\"com.databricks.spark.csv\")\n",
    ".option(\"header\", \"false\").option(\"delimiter\", \"\\t\")\n",
    ".load(\"hdfs://mr-hn:8020/user/acald013/Datasets/ny_bikes.wkt\").cache"
   ]
  },
  {
   "cell_type": "code",
   "execution_count": null,
   "id": "3165501e-43b6-47f9-a55d-6fab1a60ec2b",
   "metadata": {},
   "outputs": [],
   "source": [
    "import spark.implicits._\n",
    "\n",
    "case class Route(wkt: String, id: String, t1: Long, t2: Long, duration: Long)\n",
    "//**\n",
    "\n",
    "val trajs = data.map{ row =>\n",
    "  Route(\n",
    "    row.getString(0),\n",
    "    row.getString(1),\n",
    "    row.getString(2).toLong,\n",
    "    row.getString(3).toLong,\n",
    "    row.getString(4).toLong\n",
    "  )\n",
    "}.cache"
   ]
  },
  {
   "cell_type": "code",
   "execution_count": null,
   "id": "bd017750-8d96-47e0-b5e4-d76e883917cd",
   "metadata": {},
   "outputs": [],
   "source": [
    "trajs.show"
   ]
  },
  {
   "cell_type": "code",
   "execution_count": null,
   "id": "ba7afcef-b75b-4b9b-bb11-c7309ad6363b",
   "metadata": {},
   "outputs": [],
   "source": []
  }
 ],
 "metadata": {
  "kernelspec": {
   "display_name": "Scala",
   "language": "scala",
   "name": "scala"
  },
  "language_info": {
   "codemirror_mode": "text/x-scala",
   "file_extension": ".scala",
   "mimetype": "text/x-scala",
   "name": "scala",
   "nbconvert_exporter": "script",
   "version": "2.12.10"
  }
 },
 "nbformat": 4,
 "nbformat_minor": 5
}
