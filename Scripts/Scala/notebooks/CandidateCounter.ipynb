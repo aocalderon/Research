{
 "cells": [
  {
   "cell_type": "code",
   "execution_count": 6,
   "id": "62f61e6a-555c-4fe1-9a3b-cf6bf3362703",
   "metadata": {},
   "outputs": [
    {
     "data": {
      "text/plain": [
       "lastException = null\n",
       "M_prime = [_c0: string, _c1: string]\n",
       "C_prime = [_c0: string, _c1: string]\n"
      ]
     },
     "metadata": {},
     "output_type": "display_data",
     "source": "user"
    },
    {
     "data": {
      "text/plain": [
       "[_c0: string, _c1: string]"
      ]
     },
     "execution_count": 6,
     "metadata": {},
     "output_type": "execute_result"
    }
   ],
   "source": [
    "val M_prime = spark.read\n",
    "    .option(\"header\", \"false\")\n",
    "    .option(\"delimiter\", \"|\")\n",
    "    .csv(\"file:///home/acald013/Research/Scripts/Scala/PFlock/maximalsAvg.txt\")\n",
    "val C_prime = spark.read\n",
    "    .option(\"header\", \"false\")\n",
    "    .option(\"delimiter\", \"|\")\n",
    "    .csv(\"file:///home/acald013/Research/Scripts/Scala/PFlock/candidatesCnt.txt\")\n"
   ]
  },
  {
   "cell_type": "code",
   "execution_count": 9,
   "id": "d9891224-9787-4c3e-a5a1-5027a20afe95",
   "metadata": {},
   "outputs": [
    {
     "data": {
      "text/plain": [
       "M = [value: double]\n"
      ]
     },
     "metadata": {},
     "output_type": "display_data",
     "source": "user"
    },
    {
     "data": {
      "text/plain": [
       "25.88106746018403"
      ]
     },
     "execution_count": 9,
     "metadata": {},
     "output_type": "execute_result"
    }
   ],
   "source": [
    "val M = M_prime.map{ row =>\n",
    "    row.getString(1).toDouble\n",
    "}\n",
    "\n",
    "M.reduce{_ + _} / M.count"
   ]
  },
  {
   "cell_type": "code",
   "execution_count": 11,
   "id": "4a25d3a8-ae89-4a0b-9d19-5da09c10959a",
   "metadata": {},
   "outputs": [
    {
     "data": {
      "text/plain": [
       "C = [value: double]\n"
      ]
     },
     "metadata": {},
     "output_type": "display_data",
     "source": "user"
    },
    {
     "data": {
      "text/plain": [
       "17.705864254507414"
      ]
     },
     "execution_count": 11,
     "metadata": {},
     "output_type": "execute_result"
    }
   ],
   "source": [
    "val C = C_prime.map{ row =>\n",
    "    row.getString(1).toDouble\n",
    "}\n",
    "\n",
    "C.reduce{_ + _} / C.count"
   ]
  },
  {
   "cell_type": "code",
   "execution_count": null,
   "id": "29ea047a-daf1-40aa-b4a7-4f9b7caa8a1b",
   "metadata": {},
   "outputs": [],
   "source": []
  }
 ],
 "metadata": {
  "kernelspec": {
   "display_name": "Apache Toree - Scala",
   "language": "scala",
   "name": "apache_toree_scala"
  },
  "language_info": {
   "codemirror_mode": "text/x-scala",
   "file_extension": ".scala",
   "mimetype": "text/x-scala",
   "name": "scala",
   "pygments_lexer": "scala",
   "version": "2.12.15"
  }
 },
 "nbformat": 4,
 "nbformat_minor": 5
}
