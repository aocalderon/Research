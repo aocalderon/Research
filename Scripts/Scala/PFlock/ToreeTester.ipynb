{
 "cells": [
  {
   "cell_type": "code",
   "execution_count": 1,
   "id": "796ef4b5-866d-493a-8137-49a8c2bada56",
   "metadata": {},
   "outputs": [
    {
     "name": "stdout",
     "output_type": "stream",
     "text": [
      "Using cached version of pflock_2.11-0.1.0.jar\n",
      "Using cached version of pflock_2.11-0.1.0.jar\n",
      "Using cached version of jts-core-1.19.0.jar\n",
      "Using cached version of jts-core-1.19.0.jar\n",
      "Using cached version of graphhopper-core-7.0.jar\n",
      "Using cached version of graphhopper-core-7.0.jar\n",
      "Using cached version of nscala-time_2.11-2.32.0.jar\n",
      "Using cached version of nscala-time_2.11-2.32.0.jar\n",
      "Using cached version of archery_2.11-0.6.0.jar\n",
      "Using cached version of archery_2.11-0.6.0.jar\n",
      "Using cached version of scallop_2.11-4.0.1.jar\n",
      "Using cached version of scallop_2.11-4.0.1.jar\n",
      "Using cached version of slf4j-api-1.7.36.jar\n",
      "Using cached version of slf4j-api-1.7.36.jar\n"
     ]
    },
    {
     "data": {
      "text/plain": [
       "res8: org.apache.toree.magic.MagicOutput = MagicOutput(List())\n"
      ]
     },
     "metadata": {},
     "output_type": "display_data",
     "source": "user"
    }
   ],
   "source": [
    "%AddJar file:///home/acald013/Research/Scripts/Scala/PFlock/target/scala-2.11/pflock_2.11-0.1.0.jar    \n",
    "%AddJar file:///home/acald013/.cache/coursier/v1/https/repo1.maven.org/maven2/org/locationtech/jts/jts-core/1.19.0/jts-core-1.19.0.jar    \n",
    "%AddJar file:///home/acald013/.cache/coursier/v1/https/repo1.maven.org/maven2/com/graphhopper/graphhopper-core/7.0/graphhopper-core-7.0.jar    \n",
    "%AddJar file:///home/acald013/.cache/coursier/v1/https/repo1.maven.org/maven2/com/github/nscala-time/nscala-time_2.11/2.32.0/nscala-time_2.11-2.32.0.jar    \n",
    "%AddJar file:///home/acald013/.cache/coursier/v1/https/repo1.maven.org/maven2/org/spire-math/archery_2.11/0.6.0/archery_2.11-0.6.0.jar    \n",
    "%AddJar file:///home/acald013/.cache/coursier/v1/https/repo1.maven.org/maven2/org/rogach/scallop_2.11/4.0.1/scallop_2.11-4.0.1.jar    \n",
    "%AddJar file:///home/acald013/.cache/coursier/v1/https/repo1.maven.org/maven2/org/slf4j/slf4j-api/1.7.36/slf4j-api-1.7.36.jar    \n"
   ]
  },
  {
   "cell_type": "code",
   "execution_count": 2,
   "id": "7332c062-6c39-41bb-84c5-dfa7527d8a53",
   "metadata": {},
   "outputs": [
    {
     "data": {
      "text/plain": [
       "defined class RoutingParams\n"
      ]
     },
     "metadata": {},
     "output_type": "display_data",
     "source": "user"
    }
   ],
   "source": [
    "import org.rogach.scallop._\n",
    "\n",
    "class RoutingParams(args: Seq[String]) extends ScallopConf(args) {\n",
    "  val default_dataset = \"file:///home/acald013/opt/sumo/sumo_test/ny/sample.csv\"\n",
    "  val default_osm = \"file:///home/acald013/opt/sumo/sumo_test/ny/ny.osm\"\n",
    "\n",
    "  val tolerance: ScallopOption[Double]  = opt[Double]  (default = Some(1e-3))\n",
    "  val dataset:   ScallopOption[String]  = opt[String]  (default = Some(default_dataset))\n",
    "  val id_pos:    ScallopOption[Int]     = opt[Int]     (default = Some(0))\n",
    "  val tim1_pos:  ScallopOption[Int]     = opt[Int]     (default = Some(-1))\n",
    "  val tim2_pos:  ScallopOption[Int]     = opt[Int]     (default = Some(-1))\n",
    "  val lon1_pos:  ScallopOption[Int]     = opt[Int]     (default = Some(1))\n",
    "  val lat1_pos:  ScallopOption[Int]     = opt[Int]     (default = Some(2))\n",
    "  val lon2_pos:  ScallopOption[Int]     = opt[Int]     (default = Some(3))\n",
    "  val lat2_pos:  ScallopOption[Int]     = opt[Int]     (default = Some(4))\n",
    "  val osm:       ScallopOption[String]  = opt[String]  (default = Some(default_osm))\n",
    "  val profile:   ScallopOption[String]  = opt[String]  (default = Some(\"car\"))\n",
    "  val output:    ScallopOption[String]  = opt[String]  (default = Some(\"file:///tmp/edgesT.wkt\"))\n",
    "  val header:    ScallopOption[Boolean] = opt[Boolean] (default = Some(false))\n",
    "  val debug:     ScallopOption[Boolean] = opt[Boolean] (default = Some(false))\n",
    "\n",
    "  verify()\n",
    "}"
   ]
  },
  {
   "cell_type": "code",
   "execution_count": 7,
   "id": "d1ebb1c0-7a64-467c-88e9-f5880eb7e37c",
   "metadata": {},
   "outputs": [
    {
     "name": "stdout",
     "output_type": "stream",
     "text": [
      "Starting download from file:///home/acald013/.cache/coursier/v1/https/repo1.maven.org/maven2/com/graphhopper/graphhopper-web-api/7.0/graphhopper-web-api-7.0.jar\n",
      "Finished download of graphhopper-web-api-7.0.jar\n",
      "Using cached version of graphhopper-web-api-7.0.jar\n"
     ]
    },
    {
     "data": {
      "text/plain": [
       "res9: org.apache.toree.magic.MagicOutput = MagicOutput(List())\n"
      ]
     },
     "metadata": {},
     "output_type": "display_data",
     "source": "user"
    }
   ],
   "source": [
    "%AddJar file:///home/acald013/.cache/coursier/v1/https/repo1.maven.org/maven2/com/graphhopper/graphhopper-web-api/7.0/graphhopper-web-api-7.0.jar "
   ]
  },
  {
   "cell_type": "code",
   "execution_count": 10,
   "id": "1f3838c3-8960-4d52-95fb-83f075b0f680",
   "metadata": {},
   "outputs": [],
   "source": [
    "import org.locationtech.jts.geom.{PrecisionModel, GeometryFactory}\n",
    "import org.locationtech.jts.geom.{Coordinate, LineString}\n",
    "\n",
    "import com.graphhopper.{GraphHopper, ResponsePath}\n",
    "import com.graphhopper.GHRequest\n",
    "import com.graphhopper.GHResponse\n",
    "import com.graphhopper.config.{CHProfile,Profile}\n",
    "import com.github.nscala_time.time.Imports._\n",
    "\n",
    "import org.slf4j.{Logger, LoggerFactory}\n",
    "\n",
    "import scala.collection.JavaConverters._\n",
    "import scala.io.Source\n",
    "import java.io.{BufferedWriter, FileWriter}"
   ]
  },
  {
   "cell_type": "code",
   "execution_count": 11,
   "id": "33cb2138-87cd-44f4-816f-d9392d248992",
   "metadata": {},
   "outputs": [
    {
     "data": {
      "text/plain": [
       "defined class RoutePoint\n",
       "defined class Route\n"
      ]
     },
     "metadata": {},
     "output_type": "display_data",
     "source": "user"
    },
    {
     "data": {
      "text/plain": [
       "logger: org.slf4j.Logger = org.slf4j.impl.Log4jLoggerAdapter(myLogger)\n",
       "createGraphHopperInstance: (ghLoc: String)(implicit P: RoutingParams)com.graphhopper.GraphHopper\n",
       "routing: (p1: RoutePoint, p2: RoutePoint)(implicit GH: com.graphhopper.GraphHopper, implicit G: org.locationtech.jts.geom.GeometryFactory, implicit P: RoutingParams)Route\n"
      ]
     },
     "metadata": {},
     "output_type": "display_data",
     "source": "user"
    }
   ],
   "source": [
    "  implicit val logger: Logger = LoggerFactory.getLogger(\"myLogger\")\n",
    "\n",
    "  case class RoutePoint(id: String, lon: Double, lat: Double, dateStr: String, zone: String = \"UTC\")\n",
    "      extends Coordinate(lon, lat){\n",
    "\n",
    "    val JAN_1_2000 = new LocalDateTime(2000, 1, 1, 0, 0).toDateTime\n",
    "\n",
    "    val date: DateTime = if(dateStr == \"\")\n",
    "      JAN_1_2000\n",
    "    else\n",
    "      new DateTime(dateStr.replace(\" \", \"T\"))\n",
    "\n",
    "    val inMs: Long = date.toLocalDateTime().toDateTime(DateTimeZone.UTC).getMillis()\n",
    "  }\n",
    "\n",
    "  case class Route(id: String, line: LineString, t1: Long, t2: Long = -1L,\n",
    "    duration: Long = 0){\n",
    "\n",
    "    val wkt: String = s\"${line.toText}\\t$id\\t$t1\\t$t2\\t$duration\"\n",
    "  }\n",
    "\n",
    "  def createGraphHopperInstance(ghLoc: String)(implicit P: RoutingParams): GraphHopper = {\n",
    "    val hopper = new GraphHopper()\n",
    "    hopper.setOSMFile(ghLoc)\n",
    "    // specify where to store graphhopper files\n",
    "    hopper.setGraphHopperLocation(\"target/routing-graph-cache\")\n",
    "\n",
    "    // see docs/core/profiles.md to learn more about profiles\n",
    "    hopper.setProfiles(new Profile(P.profile())\n",
    "      .setVehicle(P.profile())\n",
    "      .setWeighting(\"fastest\")\n",
    "      .setTurnCosts(false)\n",
    "    )\n",
    "\n",
    "    // this enables speed mode for the profile we called bike\n",
    "    hopper.getCHPreparationHandler()\n",
    "      .setCHProfiles(new CHProfile(P.profile()))\n",
    "\n",
    "    // now this can take minutes if it imports or a few seconds for loading\n",
    "    // of course this is dependent on the area you import\n",
    "    hopper.importOrLoad()\n",
    "\n",
    "    hopper\n",
    "  }\n",
    "\n",
    "  def routing(p1: RoutePoint, p2: RoutePoint)\n",
    "    (implicit GH: GraphHopper, G: GeometryFactory, P: RoutingParams): Route = {\n",
    "\n",
    "    if(P.debug()) println(p1)\n",
    "    if(P.debug()) println(p2)\n",
    "\n",
    "    // simple configuration of the request object, note that we have to specify which\n",
    "    //   profile we are using even when there is only one like here...\n",
    "    val req = new GHRequest(p1.lon, p1.lat, p2.lon, p2.lat).setProfile(P.profile())\n",
    "    val rsp = GH.route(req)\n",
    "\n",
    "    // handle errors\n",
    "    try{\n",
    "      if(rsp.hasErrors) scala.util.control.Exception\n",
    "      // use the best path, see the GHResponse class for more possibilities...\n",
    "      val path: ResponsePath  = rsp.getBest()\n",
    "\n",
    "      // points, distance in meters and time in millis of the full path...\n",
    "      val timeInMs: Long = path.getTime()\n",
    "      val coords = path.getPoints().asScala.toArray.map{ ghpoint =>\n",
    "        new Coordinate(ghpoint.getLon(), ghpoint.getLat())\n",
    "      }\n",
    "      val route = G.createLineString(coords)\n",
    "      if(P.debug()) println(route.toText)\n",
    "\n",
    "      Route(p1.id, line = route, t1 = p1.inMs, t2 = p2.inMs, duration = timeInMs)\n",
    "    } catch {\n",
    "      case e: Throwable => {\n",
    "        if(P.debug()) println(\"Error: \" + e.toString)\n",
    "        Route(\"\", G.createLineString(), -1)\n",
    "      }\n",
    "    }\n",
    "  }\n"
   ]
  },
  {
   "cell_type": "code",
   "execution_count": 13,
   "id": "45706eae-77e2-4c30-84ac-a9ea880d1da3",
   "metadata": {},
   "outputs": [
    {
     "ename": "java.lang.NoSuchMethodError",
     "evalue": "scala.Predef$.refArrayOps([Ljava/lang/Object;)Lscala/collection/mutable/ArrayOps;",
     "output_type": "error",
     "traceback": [
      "java.lang.NoSuchMethodError: scala.Predef$.refArrayOps([Ljava/lang/Object;)Lscala/collection/mutable/ArrayOps;",
      "  at org.rogach.scallop.ScallopConf.performOptionNameGuessing(ScallopConf.scala:20)",
      "  at org.rogach.scallop.ScallopConfBase.verifyConf(ScallopConfBase.scala:1069)",
      "  at org.rogach.scallop.ScallopConfBase.verify(ScallopConfBase.scala:1086)",
      "  ... 159 elided"
     ]
    }
   ],
   "source": [
    "implicit val params = new RoutingParams(Array.empty[String])\n",
    "implicit val geofactory = new GeometryFactory(new PrecisionModel(1.0/params.tolerance()))"
   ]
  },
  {
   "cell_type": "code",
   "execution_count": null,
   "id": "1848a04f-6b4f-4bbd-adbc-e948a60f1493",
   "metadata": {},
   "outputs": [],
   "source": [
    "logger.info(\"Reading...\")\n",
    "val buffer = Source.fromFile(params.dataset())\n",
    "val od_prime = if(params.header()){\n",
    "  val prime = buffer.getLines\n",
    "  val header = prime.next\n",
    "  println(header.replaceAll(\",\", \"\\t\"))\n",
    "  prime.toList\n",
    "} else {\n",
    "  buffer.getLines.toList\n",
    "}"
   ]
  },
  {
   "cell_type": "code",
   "execution_count": null,
   "id": "1f66225a-e29e-460f-8d5d-f2d71c2441b5",
   "metadata": {},
   "outputs": [],
   "source": [
    "val t1 = params.tim1_pos()\n",
    "val t2 = params.tim2_pos()\n",
    "val n = (t1, t2) match {\n",
    "  case _ if t1 <  0 && t2 <  0 => 5\n",
    "  case _ if t1 >= 0 && t2 <  0 => 6\n",
    "  case _ if t1 <  0 && t2 >= 0 => 6\n",
    "  case _ if t1 >= 0 && t2 >= 0 => 7\n",
    "}"
   ]
  },
  {
   "cell_type": "code",
   "execution_count": null,
   "id": "c6b52199-b1ce-4a6e-bbb7-8ab817c0db5c",
   "metadata": {},
   "outputs": [],
   "source": [
    "val od = od_prime.par\n",
    "  .filter(_.split(\",\").size == n)\n",
    "  .map{ line =>\n",
    "    val arr = line.split(\",\")\n",
    "\n",
    "    val id = arr(params.id_pos())\n",
    "\n",
    "    val tim1 = if(params.tim1_pos() < 0) \"\" else arr(params.tim1_pos())\n",
    "    val lon1 = arr(params.lon1_pos()).toDouble\n",
    "    val lat1 = arr(params.lat1_pos()).toDouble\n",
    "    val   p1 = RoutePoint(id, lon1, lat1, tim1)\n",
    "    if(params.debug()) print(p1)\n",
    "\n",
    "    val tim2 = if(params.tim2_pos() < 0) \"\" else arr(params.tim2_pos())\n",
    "    val lon2 = arr(params.lon2_pos()).toDouble\n",
    "    val lat2 = arr(params.lat2_pos()).toDouble\n",
    "    val   p2 = RoutePoint(id, lon2, lat2, tim2)\n",
    "    if(params.debug()) print(p2)\n",
    "\n",
    "    (p1, p2)\n",
    "  }\n",
    "buffer.close"
   ]
  },
  {
   "cell_type": "code",
   "execution_count": null,
   "id": "e9404262-d738-4408-b79a-5f745ed6032f",
   "metadata": {},
   "outputs": [],
   "source": [
    "implicit var progress = new pb.ProgressBar(od.size)\n",
    "val f = new BufferedWriter(new FileWriter(params.output()), 16384) // Buffer size...\n",
    "logger.info(\"Routing...\")\n",
    "implicit val hopper = createGraphHopperInstance(params.osm())\n",
    "val trips = od\n",
    "  .foreach{ case(p1, p2) =>\n",
    "    progress.add(1)\n",
    "    val route = routing(p1, p2)\n",
    "    if(route.id != \"\") f.write(s\"${route.wkt}\\n\")\n",
    "  }\n",
    "\n",
    "logger.info(\"Closing...\")\n",
    "hopper.close\n",
    "f.close"
   ]
  }
 ],
 "metadata": {
  "kernelspec": {
   "display_name": "Apache Toree - Scala",
   "language": "scala",
   "name": "apache_toree_scala"
  },
  "language_info": {
   "codemirror_mode": "text/x-scala",
   "file_extension": ".scala",
   "mimetype": "text/x-scala",
   "name": "scala",
   "pygments_lexer": "scala",
   "version": "2.12.15"
  }
 },
 "nbformat": 4,
 "nbformat_minor": 5
}
